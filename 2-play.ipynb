{
 "cells": [
  {
   "cell_type": "markdown",
   "id": "472570e2-0dd1-45c9-b1e3-54c0744d8218",
   "metadata": {},
   "source": [
    "# Playing with VAST\n",
    "\n",
    "We now want to play around with VAST. \n",
    "\n",
    "First, lets import a few events:"
   ]
  },
  {
   "cell_type": "code",
   "execution_count": null,
   "id": "1997bd2f-8b0d-4168-a287-1d1cce53b87d",
   "metadata": {},
   "outputs": [],
   "source": [
    "%%bash\n",
    "URL=\"https://raw.githubusercontent.com/tenzir/vast/master/vast/integration/data/suricata/eve.json\"\n",
    "curl -s $URL | bin/vast import suricata"
   ]
  },
  {
   "cell_type": "markdown",
   "id": "4253752b-4bd4-4d4f-b6b4-7ca491872ee7",
   "metadata": {},
   "source": [
    "Now let's check what made its way into the database:"
   ]
  },
  {
   "cell_type": "code",
   "execution_count": null,
   "id": "a121ddc9-be02-4e23-b9dc-168a4851eadd",
   "metadata": {},
   "outputs": [],
   "source": [
    "import pandas as pd\n",
    "import io\n",
    "\n",
    "\n",
    "db_content = !bin/vast export json 2>/dev/null\n",
    "jsdl_db_content='\\n'.join(db_content)\n",
    "pd.read_json(io.StringIO(jsdl_db_content), lines=True)"
   ]
  }
 ],
 "metadata": {
  "kernelspec": {
   "display_name": "Python 3 (ipykernel)",
   "language": "python",
   "name": "python3"
  },
  "language_info": {
   "codemirror_mode": {
    "name": "ipython",
    "version": 3
   },
   "file_extension": ".py",
   "mimetype": "text/x-python",
   "name": "python",
   "nbconvert_exporter": "python",
   "pygments_lexer": "ipython3",
   "version": "3.8.5"
  }
 },
 "nbformat": 4,
 "nbformat_minor": 5
}
