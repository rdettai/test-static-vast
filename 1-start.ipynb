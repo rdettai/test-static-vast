{
 "cells": [
  {
   "cell_type": "markdown",
   "id": "f7f42d94-973d-4224-9bbb-c5554b95e77d",
   "metadata": {},
   "source": [
    "# Getting started\n",
    "\n",
    "Before going any further, you need to start an instance of the vast server. To do so, run the following cell an leave this kernel running to execute it in the backgroung."
   ]
  },
  {
   "cell_type": "code",
   "execution_count": null,
   "id": "7a4be63b-331d-4fb4-baed-9bffced67ed8",
   "metadata": {},
   "outputs": [],
   "source": [
    "!bin/vast start"
   ]
  }
 ],
 "metadata": {
  "kernelspec": {
   "display_name": "Python 3 (ipykernel)",
   "language": "python",
   "name": "python3"
  },
  "language_info": {
   "codemirror_mode": {
    "name": "ipython",
    "version": 3
   },
   "file_extension": ".py",
   "mimetype": "text/x-python",
   "name": "python",
   "nbconvert_exporter": "python",
   "pygments_lexer": "ipython3",
   "version": "3.8.5"
  }
 },
 "nbformat": 4,
 "nbformat_minor": 5
}
