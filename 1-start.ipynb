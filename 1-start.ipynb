{
 "cells": [
  {
   "cell_type": "markdown",
   "id": "f7f42d94-973d-4224-9bbb-c5554b95e77d",
   "metadata": {},
   "source": [
    "# Getting started\n",
    "\n",
    "Before going any further, you need to start an instance of the vast server. To do so, run the following cell an leave this kernel running to execute it in the backgroung."
   ]
  },
  {
   "cell_type": "code",
   "execution_count": null,
   "id": "7a4be63b-331d-4fb4-baed-9bffced67ed8",
   "metadata": {},
   "outputs": [
    {
     "name": "stdout",
     "output_type": "stream",
     "text": [
      "\u001b[32m[16:49:12.993] VAST (v2.0.0-rc4-10-g74788b5299) is listening on localhost:42000\u001b[m\n",
      "\u001b[32m[16:55:12.528] importer-13 adds suricata-reader source\u001b[m\n",
      "\u001b[32m[16:55:12.544] importer-13 removes suricata-reader source\u001b[m\n",
      "\u001b[32m[16:55:39.075] importer-13 adds suricata-reader source\u001b[m\n",
      "\u001b[32m[16:55:39.090] importer-13 removes suricata-reader source\u001b[m\n",
      "\u001b[32m[16:56:27.761] importer-13 adds suricata-reader source\u001b[m\n",
      "\u001b[32m[16:56:28.057] importer-13 removes suricata-reader source\u001b[m\n",
      "\u001b[32m[17:18:36.351] importer-13 adds suricata-reader source\u001b[m\n",
      "\u001b[32m[17:18:36.366] importer-13 removes suricata-reader source\u001b[m\n",
      "\u001b[32m[17:18:51.513] importer-13 adds suricata-reader source\u001b[m\n",
      "\u001b[32m[17:18:51.556] importer-13 removes suricata-reader source\u001b[m\n"
     ]
    }
   ],
   "source": [
    "!bin/vast start"
   ]
  }
 ],
 "metadata": {
  "kernelspec": {
   "display_name": "Python 3 (ipykernel)",
   "language": "python",
   "name": "python3"
  },
  "language_info": {
   "codemirror_mode": {
    "name": "ipython",
    "version": 3
   },
   "file_extension": ".py",
   "mimetype": "text/x-python",
   "name": "python",
   "nbconvert_exporter": "python",
   "pygments_lexer": "ipython3",
   "version": "3.8.5"
  }
 },
 "nbformat": 4,
 "nbformat_minor": 5
}
